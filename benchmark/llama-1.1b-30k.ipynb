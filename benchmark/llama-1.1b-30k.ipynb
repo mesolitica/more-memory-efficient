{
 "cells": [
  {
   "cell_type": "code",
   "execution_count": 1,
   "id": "fe4126e0",
   "metadata": {},
   "outputs": [],
   "source": [
    "from transformers.cache_utils import DynamicCache\n",
    "from transformers import LlamaForCausalLM, AutoConfig\n",
    "from tqdm import tqdm\n",
    "import torch\n",
    "import time"
   ]
  },
  {
   "cell_type": "code",
   "execution_count": 2,
   "id": "fa2c01b5",
   "metadata": {},
   "outputs": [],
   "source": [
    "model = LlamaForCausalLM.from_pretrained(\n",
    "    'mesolitica/malaysian-tinyllama-1.1b-16k-instructions-v4',\n",
    "                                        torch_dtype = torch.bfloat16).cuda()"
   ]
  },
  {
   "cell_type": "code",
   "execution_count": 3,
   "id": "87b83fa3",
   "metadata": {},
   "outputs": [],
   "source": [
    "input_ids = torch.tensor([5] * 30000).unsqueeze(0).cuda()"
   ]
  },
  {
   "cell_type": "code",
   "execution_count": 4,
   "id": "cd4438ef",
   "metadata": {},
   "outputs": [],
   "source": [
    "cache = DynamicCache()"
   ]
  },
  {
   "cell_type": "code",
   "execution_count": 5,
   "id": "b796e35f",
   "metadata": {},
   "outputs": [
    {
     "name": "stderr",
     "output_type": "stream",
     "text": [
      "/home/husein/.local/lib/python3.10/site-packages/torch/backends/cuda/__init__.py:342: FutureWarning: torch.backends.cuda.sdp_kernel() is deprecated. In the future, this context manager will be removed. Please see, torch.nn.attention.sdpa_kernel() for the new context manager, with updated signature.\n",
      "  warnings.warn(\n",
      "100%|█████████████████████████████████████████████████████████████████████████████████████████████████████████| 1000/1000 [00:27<00:00, 36.39it/s]\n"
     ]
    }
   ],
   "source": [
    "memory_allocated, time_taken = [], []\n",
    "with torch.no_grad():\n",
    "    with torch.backends.cuda.sdp_kernel(enable_flash=True, enable_mem_efficient=False, enable_math=True):\n",
    "        for i in tqdm(range(1000)):\n",
    "            logits = model.forward(input_ids, past_key_values = cache, use_cache = True).logits\n",
    "            input_ids = logits.argmax(-1)[:, -1:]\n",
    "            del logits\n",
    "            memory_allocated.append(torch.cuda.memory_allocated())\n",
    "            time_taken.append(time.time())"
   ]
  },
  {
   "cell_type": "code",
   "execution_count": 6,
   "id": "fba7904c",
   "metadata": {},
   "outputs": [
    {
     "data": {
      "text/plain": [
       "[<matplotlib.lines.Line2D at 0x7fdcd3532770>]"
      ]
     },
     "execution_count": 6,
     "metadata": {},
     "output_type": "execute_result"
    },
    {
     "data": {
      "image/png": "[encoded data removed]",
      "text/plain": [
       "<Figure size 640x480 with 1 Axes>"
      ]
     },
     "metadata": {},
     "output_type": "display_data"
    }
   ],
   "source": [
    "import matplotlib.pyplot as plt\n",
    "\n",
    "plt.plot(memory_allocated)"
   ]
  },
  {
   "cell_type": "code",
   "execution_count": 8,
   "id": "20fea9f1",
   "metadata": {},
   "outputs": [],
   "source": [
    "import json\n",
    "\n",
    "with open('llama-1.1b-30k.json', 'w') as fopen:\n",
    "    json.dump({\n",
    "        'memory_allocated': memory_allocated,\n",
    "        'time_taken': time_taken,\n",
    "    }, fopen)"
   ]
  },
  {
   "cell_type": "code",
   "execution_count": null,
   "id": "f623e841",
   "metadata": {},
   "outputs": [],
   "source": []
  }
 ],
 "metadata": {
  "kernelspec": {
   "display_name": "python3.10",
   "language": "python",
   "name": "python3.10"
  },
  "language_info": {
   "codemirror_mode": {
    "name": "ipython",
    "version": 3
   },
   "file_extension": ".py",
   "mimetype": "text/x-python",
   "name": "python",
   "nbconvert_exporter": "python",
   "pygments_lexer": "ipython3",
   "version": "3.10.14"
  }
 },
 "nbformat": 4,
 "nbformat_minor": 5
}
